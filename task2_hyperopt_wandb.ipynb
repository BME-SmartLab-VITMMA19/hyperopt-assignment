{
 "cells": [
  {
   "cell_type": "code",
   "execution_count": null,
   "metadata": {
    "id": "K9huvMTmhTqI"
   },
   "outputs": [],
   "source": [
    "### HYPEROPT ASSIGNMENT / Task 2\n",
    "# create a copy of 'task1_pytorch_lightning_CNN.ipynb'\n",
    "# add WandB.ai integration to the code\n",
    "# (help: https://docs.wandb.ai/guides/integrations/lightning )\n",
    "# run at least 3 different trainings\n",
    "# save the resulting notebook as 'solution_2.ipynb'\n",
    "\n",
    "# how to check whether it is OK?\n",
    "#  locally:\n",
    "#   > chmod u+x eval_2\n",
    "#   > ./eval_2\n",
    "#\n",
    "#  if the above is OK,\n",
    "#  upload to github to get the scores!"
   ]
  }
 ],
 "metadata": {
  "colab": {
   "provenance": []
  },
  "kernelspec": {
   "display_name": "Python 3 (ipykernel)",
   "language": "python",
   "name": "python3"
  },
  "language_info": {
   "codemirror_mode": {
    "name": "ipython",
    "version": 3
   },
   "file_extension": ".py",
   "mimetype": "text/x-python",
   "name": "python",
   "nbconvert_exporter": "python",
   "pygments_lexer": "ipython3",
   "version": "3.9.7"
  }
 },
 "nbformat": 4,
 "nbformat_minor": 1
}
